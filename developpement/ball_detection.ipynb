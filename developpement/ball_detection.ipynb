{
 "cells": [
  {
   "cell_type": "code",
   "execution_count": null,
   "id": "b448cf92-2de6-4dcb-b788-012aadcc814e",
   "metadata": {
    "tags": []
   },
   "outputs": [],
   "source": [
    "import cv2\n",
    "import matplotlib.pyplot as plt"
   ]
  },
  {
   "cell_type": "code",
   "execution_count": null,
   "id": "70313f53-fe78-43e2-a237-27cb1a2c3451",
   "metadata": {
    "tags": []
   },
   "outputs": [],
   "source": [
    "img = cv2.imread(\"../assets/ball.jpg\"test)"
   ]
  },
  {
   "cell_type": "code",
   "execution_count": null,
   "id": "35fbb63c-270d-4a1b-a7bb-8f6aafbb2f02",
   "metadata": {
    "tags": []
   },
   "outputs": [],
   "source": [
    "edges = cv2.Canny(img, 100, 200)\n",
    "contours, _ = cv2.findContours(edges, cv2.RETR_EXTERNAL, cv2.CHAIN_APPROX_SIMPLE)\n",
    "for i, c in enumerate(contours):\n",
    "    # draw the contour\n",
    "    ((x, y), r) = cv2.minEnclosingCircle(c)\n",
    "    if r>20:\n",
    "        print(i, x, y, r)\n",
    "        cv2.putText(img, \"#{}\".format(i), (int(x) - 10, int(y)), cv2.FONT_HERSHEY_SIMPLEX, 0.6, (0, 0, 255), 2)\n",
    "        cv2.drawContours(img, [c], -1, (0, 255, 0), 2)\n"
   ]
  },
  {
   "cell_type": "code",
   "execution_count": null,
   "id": "e65f6467-18fd-4d33-896e-e7552e776d18",
   "metadata": {
    "tags": []
   },
   "outputs": [],
   "source": [
    "plt.imshow(img)"
   ]
  },
  {
   "cell_type": "code",
   "execution_count": null,
   "id": "9abb1989-76f7-4554-b1c9-e79df25b250a",
   "metadata": {},
   "outputs": [],
   "source": []
  }
 ],
 "metadata": {
  "kernelspec": {
   "display_name": "Python 3 (ipykernel)",
   "language": "python",
   "name": "python3"
  },
  "language_info": {
   "codemirror_mode": {
    "name": "ipython",
    "version": 3
   },
   "file_extension": ".py",
   "mimetype": "text/x-python",
   "name": "python",
   "nbconvert_exporter": "python",
   "pygments_lexer": "ipython3",
   "version": "3.9.16"
  }
 },
 "nbformat": 4,
 "nbformat_minor": 5
}
